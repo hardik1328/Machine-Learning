{
 "cells": [
  {
   "cell_type": "code",
   "execution_count": 9,
   "id": "ee956fdb-53c6-4c6f-8151-2b3395890087",
   "metadata": {},
   "outputs": [
    {
     "ename": "AttributeError",
     "evalue": "'list' object has no attribute 'predict'",
     "output_type": "error",
     "traceback": [
      "\u001b[1;31m---------------------------------------------------------------------------\u001b[0m",
      "\u001b[1;31mAttributeError\u001b[0m                            Traceback (most recent call last)",
      "Cell \u001b[1;32mIn[9], line 35\u001b[0m\n\u001b[0;32m     33\u001b[0m base_pred \u001b[38;5;241m=\u001b[39m []\n\u001b[0;32m     34\u001b[0m \u001b[38;5;28;01mfor\u001b[39;00m base_learner \u001b[38;5;129;01min\u001b[39;00m base_learners:\n\u001b[1;32m---> 35\u001b[0m     y_pred \u001b[38;5;241m=\u001b[39m base_learner\u001b[38;5;241m.\u001b[39mpredict(x_test)\n\u001b[0;32m     36\u001b[0m     base_pred\u001b[38;5;241m.\u001b[39mappend(y_pred)\n\u001b[0;32m     38\u001b[0m \u001b[38;5;66;03m# combine the predictions using majority voting\u001b[39;00m\n",
      "\u001b[1;31mAttributeError\u001b[0m: 'list' object has no attribute 'predict'"
     ]
    }
   ],
   "source": [
    "import numpy as np\n",
    "from sklearn.ensemble import RandomForestClassifier\n",
    "from sklearn.datasets import make_classification\n",
    "from sklearn.model_selection import train_test_split\n",
    "from sklearn.metrics import accuracy_score\n",
    "\n",
    "#generate a synthetic dataset\n",
    "x , y = make_classification(n_samples=1000,n_features=20,random_state=42)\n",
    "\n",
    "# split the dataset into training and testing data\n",
    "x_train,x_test,y_train,y_test = train_test_split(x,y,test_size=0.2,random_state=42)\n",
    "\n",
    "# initialize a list to store the base learners\n",
    "base_learner = []\n",
    "\n",
    "# number of base learners (decision tree)\n",
    "num_base_learners = 10\n",
    "\n",
    "# train the base learners\n",
    "for i in range(num_base_learners):\n",
    "    # creqte a bootstrap sample of the trainig data\n",
    "    bootstrap_indices = np.random.choice(len(x_train) , size=len(x_train),\n",
    "                                        replace = True)\n",
    "    x_bootstrap = x_train[bootstrap_indices]\n",
    "    y_bootstrap = y_train[bootstrap_indices]\n",
    "\n",
    "\n",
    "    # create and train a base learner (randomforest)\n",
    "    base_learners.append(base_learner)\n",
    "\n",
    "\n",
    "# make predictions with each base learner\n",
    "base_pred = []\n",
    "for base_learner in base_learners:\n",
    "    y_pred = base_learner.predict(x_test)\n",
    "    base_pred.append(y_pred)\n",
    "\n",
    "# combine the predictions using majority voting\n",
    "ensemble_predictions  = np.round(np.mean(base_pred , axis = 0))\n",
    "\n",
    "# calculate the accuracy of the ensemble predictions\n",
    "accuracy = accuracy_score(y_test  , ensemble_predictions)\n",
    "print(\"ensembel accuracy\" , accuracy)"
   ]
  },
  {
   "cell_type": "code",
   "execution_count": 11,
   "id": "a3f12151-3a70-40d1-a7c2-e480dabe3dfa",
   "metadata": {},
   "outputs": [
    {
     "name": "stdout",
     "output_type": "stream",
     "text": [
      "Ensemble Accuracy: 0.9\n"
     ]
    }
   ],
   "source": [
    "import numpy as np\n",
    "from sklearn.tree import DecisionTreeClassifier\n",
    "from sklearn.datasets import make_classification\n",
    "from sklearn.model_selection import train_test_split\n",
    "from sklearn.metrics import accuracy_score\n",
    "\n",
    "# Generate a synthetic dataset\n",
    "x, y = make_classification(n_samples=1000, n_features=20, random_state=42)\n",
    "\n",
    "# Split the dataset into training and testing data\n",
    "x_train, x_test, y_train, y_test = train_test_split(x, y, test_size=0.2, random_state=42)\n",
    "\n",
    "# Initialize a list to store the base learners\n",
    "base_learners = []\n",
    "\n",
    "# Number of base learners\n",
    "num_base_learners = 10\n",
    "\n",
    "# Train the base learners\n",
    "for i in range(num_base_learners):\n",
    "    # Create a bootstrap sample of the training data\n",
    "    bootstrap_indices = np.random.choice(len(x_train), size=len(x_train), replace=True)\n",
    "    x_bootstrap = x_train[bootstrap_indices]\n",
    "    y_bootstrap = y_train[bootstrap_indices]\n",
    "\n",
    "    # Create and train a base learner (Decision Tree)\n",
    "    base_learner = DecisionTreeClassifier()\n",
    "    base_learner.fit(x_bootstrap, y_bootstrap)\n",
    "\n",
    "    # Add the trained model to the list\n",
    "    base_learners.append(base_learner)\n",
    "\n",
    "# Make predictions with each base learner\n",
    "base_pred = []\n",
    "for base_learner in base_learners:\n",
    "    y_pred = base_learner.predict(x_test)\n",
    "    base_pred.append(y_pred)\n",
    "\n",
    "# Convert list of predictions to numpy array for majority voting\n",
    "base_pred = np.array(base_pred)\n",
    "\n",
    "# Combine the predictions using majority voting\n",
    "ensemble_predictions = np.round(np.mean(base_pred, axis=0))\n",
    "\n",
    "# Calculate the accuracy of the ensemble predictions\n",
    "accuracy = accuracy_score(y_test, ensemble_predictions)\n",
    "print(\"Ensemble Accuracy:\", accuracy)\n"
   ]
  },
  {
   "cell_type": "code",
   "execution_count": null,
   "id": "cbac5730-f3d9-4521-805a-68920007c4c5",
   "metadata": {},
   "outputs": [],
   "source": []
  }
 ],
 "metadata": {
  "kernelspec": {
   "display_name": "Python 3 (ipykernel)",
   "language": "python",
   "name": "python3"
  },
  "language_info": {
   "codemirror_mode": {
    "name": "ipython",
    "version": 3
   },
   "file_extension": ".py",
   "mimetype": "text/x-python",
   "name": "python",
   "nbconvert_exporter": "python",
   "pygments_lexer": "ipython3",
   "version": "3.12.4"
  }
 },
 "nbformat": 4,
 "nbformat_minor": 5
}
