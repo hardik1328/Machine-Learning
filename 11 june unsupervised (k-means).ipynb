{
 "cells": [
  {
   "cell_type": "markdown",
   "id": "e186b0f2-6923-4e78-90b4-1f6f90289714",
   "metadata": {},
   "source": [
    "## K-Means Clustering"
   ]
  },
  {
   "cell_type": "markdown",
   "id": "6bb083b9-0a3a-4952-a7d4-fbdbafd48300",
   "metadata": {},
   "source": [
    "K-Means is an unsupervised learning algorithm used for clustering data into groups (clusters) based on similar patterns or features.\n",
    "\n",
    "It doesn't use labeled data. Instead, it tries to find structure or patterns in the data by grouping similar data points together."
   ]
  },
  {
   "cell_type": "markdown",
   "id": "7ac907b7-9c1f-4f68-99ac-073d4cf4316a",
   "metadata": {},
   "source": [
    "🔶 Real-Life Example"
   ]
  },
  {
   "cell_type": "markdown",
   "id": "51e4667d-377c-47d8-8bb5-70b9a6bf4e19",
   "metadata": {},
   "source": [
    "Think of K-Means like this:\n",
    "\n",
    "Imagine you have a box of mixed fruits (apples, bananas, oranges) but no labels. K-Means will group similar fruits together based on shape, color, and size—without knowing their actual names."
   ]
  },
  {
   "cell_type": "markdown",
   "id": "27501d58-3ccc-406b-bf8a-6bace94f4afd",
   "metadata": {},
   "source": [
    "🔶 How K-Means Works (Step-by-Step)"
   ]
  },
  {
   "cell_type": "markdown",
   "id": "c6a9cec1-e195-46ef-b761-fc7bab063ae1",
   "metadata": {},
   "source": [
    "Suppose you want to divide your data into K clusters (e.g., K=3):\n",
    "\n",
    "1. Initialize Centroids\n",
    "Randomly choose K points from the dataset as the initial centroids (center of clusters).\n",
    "\n",
    "2. Assign Points to Nearest Centroid\n",
    "For each data point, calculate the distance to each centroid.\n",
    "\n",
    "Assign the point to the closest centroid's cluster.\n",
    "\n",
    "3. Update Centroids\n",
    "After assigning all points, recalculate the centroid of each cluster by taking the mean of the points in that cluster.\n",
    "\n",
    "4. Repeat\n",
    "Repeat steps 2 and 3 until:\n",
    "\n",
    "Centroids do not change much, or\n",
    "\n",
    "A maximum number of iterations is reached."
   ]
  },
  {
   "cell_type": "code",
   "execution_count": 9,
   "id": "a71db747-5607-45af-81f0-0bb436173726",
   "metadata": {},
   "outputs": [
    {
     "name": "stdout",
     "output_type": "stream",
     "text": [
      "[1 1 1 0 0 0]\n",
      "[[10.  2.]\n",
      " [ 1.  2.]]\n"
     ]
    },
    {
     "name": "stderr",
     "output_type": "stream",
     "text": [
      "C:\\Users\\hardi\\anaconda3\\Lib\\site-packages\\sklearn\\cluster\\_kmeans.py:1446: UserWarning: KMeans is known to have a memory leak on Windows with MKL, when there are less chunks than available threads. You can avoid it by setting the environment variable OMP_NUM_THREADS=1.\n",
      "  warnings.warn(\n"
     ]
    }
   ],
   "source": [
    "from sklearn.cluster import KMeans\n",
    "import matplotlib.pyplot as plt\n",
    "\n",
    "# Sample Data\n",
    "X = [[1, 2], [1, 4], [1, 0], [10, 2], [10, 4], [10, 0]]\n",
    "\n",
    "# KMeans clustering\n",
    "kmeans = KMeans(n_clusters=2, random_state=0)\n",
    "kmeans.fit(X)\n",
    "\n",
    "print(kmeans.labels_)  # Cluster labels\n",
    "print(kmeans.cluster_centers_)  # Coordinates of centroids\n"
   ]
  },
  {
   "cell_type": "markdown",
   "id": "5b87e92a-7dbe-4b24-baa2-c47f79ad9022",
   "metadata": {},
   "source": [
    "🔶 Advantages\n",
    "✅ Simple and easy to implement\n",
    "✅ Fast and efficient on large datasets\n",
    "✅ Works well when clusters are spherical and equally sized"
   ]
  },
  {
   "cell_type": "markdown",
   "id": "ab2364f8-e0f3-410e-ad0a-2f5c2e3ba4af",
   "metadata": {},
   "source": [
    "🔶 Disadvantages\n",
    "❌ Must choose K manually\n",
    "❌ Sensitive to outliers\n",
    "❌ Doesn't work well with non-spherical clusters"
   ]
  },
  {
   "cell_type": "markdown",
   "id": "8aa3178a-2dca-43d9-a6c6-1573b382ad50",
   "metadata": {},
   "source": [
    "✅ Summary\n",
    "Feature\t               K-Means\n",
    "Type\t              Unsupervised\n",
    "Goal\t              Group similar data\n",
    "Input\t              Unlabeled data\n",
    "Output\t              Cluster labels\n",
    "Key Hyperparameter\t  Number of clusters (K)"
   ]
  }
 ],
 "metadata": {
  "kernelspec": {
   "display_name": "Python 3 (ipykernel)",
   "language": "python",
   "name": "python3"
  },
  "language_info": {
   "codemirror_mode": {
    "name": "ipython",
    "version": 3
   },
   "file_extension": ".py",
   "mimetype": "text/x-python",
   "name": "python",
   "nbconvert_exporter": "python",
   "pygments_lexer": "ipython3",
   "version": "3.12.4"
  }
 },
 "nbformat": 4,
 "nbformat_minor": 5
}
