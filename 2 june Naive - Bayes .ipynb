{
 "cells": [
  {
   "cell_type": "code",
   "execution_count": 9,
   "id": "e8bd6902-6d9a-41e1-89ff-ac008fb53fb6",
   "metadata": {},
   "outputs": [
    {
     "name": "stdout",
     "output_type": "stream",
     "text": [
      "messsage: cheap meds now\n",
      "predicted class: ['spam', 'spam', 'spam', 'not spam', 'not spam', 'not spam']\n"
     ]
    },
    {
     "ename": "ValueError",
     "evalue": "' not spam' is not in list",
     "output_type": "error",
     "traceback": [
      "\u001b[1;31m---------------------------------------------------------------------------\u001b[0m",
      "\u001b[1;31mValueError\u001b[0m                                Traceback (most recent call last)",
      "Cell \u001b[1;32mIn[9], line 43\u001b[0m\n\u001b[0;32m     41\u001b[0m \u001b[38;5;28mprint\u001b[39m(\u001b[38;5;124mf\u001b[39m\u001b[38;5;124m\"\u001b[39m\u001b[38;5;124mmesssage: \u001b[39m\u001b[38;5;132;01m{\u001b[39;00mmsg\u001b[38;5;132;01m}\u001b[39;00m\u001b[38;5;124m\"\u001b[39m)\n\u001b[0;32m     42\u001b[0m \u001b[38;5;28mprint\u001b[39m(\u001b[38;5;124mf\u001b[39m\u001b[38;5;124m\"\u001b[39m\u001b[38;5;124mpredicted class: \u001b[39m\u001b[38;5;132;01m{\u001b[39;00mlabels\u001b[38;5;132;01m}\u001b[39;00m\u001b[38;5;124m\"\u001b[39m)\n\u001b[1;32m---> 43\u001b[0m \u001b[38;5;28mprint\u001b[39m(\u001b[38;5;124mf\u001b[39m\u001b[38;5;124m\"\u001b[39m\u001b[38;5;124mprobabilites: spam = \u001b[39m\u001b[38;5;132;01m{\u001b[39;00mprob[model\u001b[38;5;241m.\u001b[39mclasses_\u001b[38;5;241m.\u001b[39mtolist()\u001b[38;5;241m.\u001b[39mindex(\u001b[38;5;124m'\u001b[39m\u001b[38;5;124mspam\u001b[39m\u001b[38;5;124m'\u001b[39m)]\u001b[38;5;132;01m:\u001b[39;00m\u001b[38;5;124m.2f\u001b[39m\u001b[38;5;132;01m}\u001b[39;00m\u001b[38;5;124m , not spam = \u001b[39m\u001b[38;5;132;01m{\u001b[39;00mprob[model\u001b[38;5;241m.\u001b[39mclasses_\u001b[38;5;241m.\u001b[39mtolist()\u001b[38;5;241m.\u001b[39mindex(\u001b[38;5;124m'\u001b[39m\u001b[38;5;124m not spam\u001b[39m\u001b[38;5;124m'\u001b[39m)]\u001b[38;5;132;01m:\u001b[39;00m\u001b[38;5;124m.2f\u001b[39m\u001b[38;5;132;01m}\u001b[39;00m\u001b[38;5;124m\"\u001b[39m)\n",
      "\u001b[1;31mValueError\u001b[0m: ' not spam' is not in list"
     ]
    }
   ],
   "source": [
    "from sklearn.feature_extraction.text import CountVectorizer\n",
    "from sklearn.naive_bayes import MultinomialNB\n",
    "from sklearn.pipeline import make_pipeline\n",
    "\n",
    "# dataset\n",
    "texts = [\n",
    "    \"buy cheap meds now\",\n",
    "    \"cheap pills online\",\n",
    "    \"get discount now\",\n",
    "    \"meeting at office\",\n",
    "    \"project discussion\",\n",
    "    \"schedule a meeting\"\n",
    "]\n",
    "\n",
    "labels = [\"spam\" , \"spam\" , \"spam\" , \"not spam\" , \"not spam\" , \"not spam\" ]\n",
    "\n",
    "# create a model pipeline\n",
    "\n",
    "model = make_pipeline(CountVectorizer() , MultinomialNB(alpha = 0.1))  # laplace smoothing with alpha=1\n",
    "\n",
    "# train the model\n",
    "model.fit(texts,labels)\n",
    "\n",
    "#test messages\n",
    "\n",
    "test_messages = [\n",
    "    \"cheap meds now\",\n",
    "    \"schedule a meeting\",\n",
    "    \"project scheduel\",\n",
    "    \"discount online pills\",\n",
    "    \"meeting now\"\n",
    "]\n",
    "\n",
    "# make predictions\n",
    "predicted = model.predict(test_messages)\n",
    "probs = model.predict_proba(test_messages)\n",
    "\n",
    "#display results\n",
    "\n",
    "for msg,label,prob in zip(test_messages , predicted , probs):\n",
    "    print(f\"messsage: {msg}\")\n",
    "    print(f\"predicted class: {labels}\")\n",
    "    print(f\"probabilites: spam = {prob[model.classes_.tolist().index('spam')]:.2f} , not spam = {prob[model.classes_.tolist().index(' not spam')]:.2f}\")\n",
    "    "
   ]
  },
  {
   "cell_type": "code",
   "execution_count": 11,
   "id": "18588714-9ee5-4d26-88f6-68b7bdbd8c7c",
   "metadata": {},
   "outputs": [
    {
     "name": "stdout",
     "output_type": "stream",
     "text": [
      "Message: cheap meds now\n",
      "Predicted class: spam\n",
      "Probabilities: spam = 1.00, not spam = 0.00\n",
      "---\n",
      "Message: schedule a meeting\n",
      "Predicted class: not spam\n",
      "Probabilities: spam = 0.00, not spam = 1.00\n",
      "---\n",
      "Message: project schedule\n",
      "Predicted class: not spam\n",
      "Probabilities: spam = 0.00, not spam = 1.00\n",
      "---\n",
      "Message: discount online pills\n",
      "Predicted class: spam\n",
      "Probabilities: spam = 1.00, not spam = 0.00\n",
      "---\n",
      "Message: meeting now\n",
      "Predicted class: not spam\n",
      "Probabilities: spam = 0.35, not spam = 0.65\n",
      "---\n"
     ]
    }
   ],
   "source": [
    "from sklearn.feature_extraction.text import CountVectorizer\n",
    "from sklearn.naive_bayes import MultinomialNB\n",
    "from sklearn.pipeline import make_pipeline\n",
    "\n",
    "# dataset\n",
    "texts = [\n",
    "    \"buy cheap meds now\",\n",
    "    \"cheap pills online\",\n",
    "    \"get discount now\",\n",
    "    \"meeting at office\",\n",
    "    \"project discussion\",\n",
    "    \"schedule a meeting\"\n",
    "]\n",
    "\n",
    "labels = [\"spam\", \"spam\", \"spam\", \"not spam\", \"not spam\", \"not spam\"]\n",
    "\n",
    "# create a model pipeline\n",
    "model = make_pipeline(CountVectorizer(), MultinomialNB(alpha=0.1))\n",
    "\n",
    "# train the model\n",
    "model.fit(texts, labels)\n",
    "\n",
    "# test messages\n",
    "test_messages = [\n",
    "    \"cheap meds now\",\n",
    "    \"schedule a meeting\",\n",
    "    \"project schedule\",  # fixed typo\n",
    "    \"discount online pills\",\n",
    "    \"meeting now\"\n",
    "]\n",
    "\n",
    "# make predictions and get probabilities\n",
    "predicted = model.predict(test_messages)\n",
    "probs = model.predict_proba(test_messages)\n",
    "\n",
    "# display results\n",
    "for msg, label, prob in zip(test_messages, predicted, probs):\n",
    "    print(f\"Message: {msg}\")\n",
    "    print(f\"Predicted class: {label}\")\n",
    "    print(f\"Probabilities: spam = {prob[model.classes_.tolist().index('spam')]:.2f}, \"\n",
    "          f\"not spam = {prob[model.classes_.tolist().index('not spam')]:.2f}\")\n",
    "    print(\"---\")\n"
   ]
  },
  {
   "cell_type": "code",
   "execution_count": null,
   "id": "246efa08-0eac-494b-9c8e-bdf34e223349",
   "metadata": {},
   "outputs": [],
   "source": []
  }
 ],
 "metadata": {
  "kernelspec": {
   "display_name": "Python 3 (ipykernel)",
   "language": "python",
   "name": "python3"
  },
  "language_info": {
   "codemirror_mode": {
    "name": "ipython",
    "version": 3
   },
   "file_extension": ".py",
   "mimetype": "text/x-python",
   "name": "python",
   "nbconvert_exporter": "python",
   "pygments_lexer": "ipython3",
   "version": "3.12.4"
  }
 },
 "nbformat": 4,
 "nbformat_minor": 5
}
